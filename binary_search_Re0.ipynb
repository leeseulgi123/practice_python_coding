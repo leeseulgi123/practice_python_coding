{
 "cells": [
  {
   "cell_type": "code",
   "execution_count": 17,
   "metadata": {},
   "outputs": [],
   "source": [
    "# 이진트리"
   ]
  },
  {
   "cell_type": "code",
   "execution_count": 18,
   "metadata": {},
   "outputs": [],
   "source": [
    "# 이진탐색 함수\n",
    "def binary_search(array, target, start, end):\n",
    "    while start<=end:\n",
    "        mid = (start+end)//2\n",
    "        \n",
    "        # 중간 값 == 찾는 값 이면 그냥 이거 리턴\n",
    "        if target == array[mid]:\n",
    "            return mid\n",
    "        # 중간 값 > 찾는 값이면 왼쪽을 본다. \n",
    "        elif target < array[mid]:\n",
    "            end = mid-1\n",
    "        else:\n",
    "            start = mid+1\n",
    "    \n",
    "    return None"
   ]
  },
  {
   "cell_type": "code",
   "execution_count": 19,
   "metadata": {},
   "outputs": [
    {
     "name": "stdout",
     "output_type": "stream",
     "text": [
      "슬기네 전자 매장의 부품 개수를 입력하세요.\n",
      "5\n",
      "보유한 부품 번호를 입력하세요. 구분은 띄어쓰기 입니다.\n",
      "8 3 7 9 2\n",
      "손님이 문의한 부품 개수를 입력하세요.\n",
      "3\n",
      "손님이 문의한 부품 번호를 입력하세요.\n",
      "5 7 9\n"
     ]
    }
   ],
   "source": [
    "print(\"슬기네 전자 매장의 부품 개수를 입력하세요.\")\n",
    "n = int(input())\n",
    "\n",
    "print(\"보유한 부품 번호를 입력하세요. 구분은 띄어쓰기 입니다.\")\n",
    "array_n = list(map(int, input().split()))\n",
    "\n",
    "# 이진탐색 하려면 일단! 정렬!\n",
    "array_n.sort()\n",
    "\n",
    "print(\"손님이 문의한 부품 개수를 입력하세요.\")\n",
    "m = int(input())\n",
    "\n",
    "print(\"손님이 문의한 부품 번호를 입력하세요.\")\n",
    "array_m = list(map(int, input().split()))"
   ]
  },
  {
   "cell_type": "code",
   "execution_count": 20,
   "metadata": {},
   "outputs": [
    {
     "name": "stdout",
     "output_type": "stream",
     "text": [
      "No,  5  is not in array_n\n",
      "Yes,  7  is in array_n\n",
      "Yes,  9  is in array_n\n"
     ]
    }
   ],
   "source": [
    "# array_n에 array_m이 있는지 확인한다.\n",
    "for i in array_m:\n",
    "    result = binary_search(array_n,i,0,n-1)\n",
    "    \n",
    "    if result != None:\n",
    "        print(\"Yes, \",i,\" is in array_n\")\n",
    "    else:\n",
    "        print(\"No, \", i,\" is not in array_n\")"
   ]
  },
  {
   "cell_type": "code",
   "execution_count": null,
   "metadata": {},
   "outputs": [],
   "source": []
  }
 ],
 "metadata": {
  "kernelspec": {
   "display_name": "Python 3",
   "language": "python",
   "name": "python3"
  },
  "language_info": {
   "codemirror_mode": {
    "name": "ipython",
    "version": 3
   },
   "file_extension": ".py",
   "mimetype": "text/x-python",
   "name": "python",
   "nbconvert_exporter": "python",
   "pygments_lexer": "ipython3",
   "version": "3.8.5"
  }
 },
 "nbformat": 4,
 "nbformat_minor": 4
}
