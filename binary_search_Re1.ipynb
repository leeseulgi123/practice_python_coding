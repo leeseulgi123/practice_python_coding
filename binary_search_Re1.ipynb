{
 "cells": [
  {
   "cell_type": "code",
   "execution_count": 1,
   "metadata": {},
   "outputs": [],
   "source": [
    "# 이진탐색 : 떡 만들기"
   ]
  },
  {
   "cell_type": "code",
   "execution_count": 2,
   "metadata": {},
   "outputs": [
    {
     "name": "stdout",
     "output_type": "stream",
     "text": [
      "떡의 개수와 요청한 떡의 길이를 입력하세요.\n",
      "4 6\n",
      "개별 떡들의 높이\n",
      "19 15 10 17\n"
     ]
    }
   ],
   "source": [
    "print(\"떡의 개수와 요청한 떡의 길이를 입력하세요.\")\n",
    "n,m = list(map(int, input().split()))\n",
    "print(\"개별 떡들의 높이\")\n",
    "array = list(map(int, input().split()))\n",
    "\n",
    "start = 0\n",
    "end = max(array)"
   ]
  },
  {
   "cell_type": "code",
   "execution_count": 3,
   "metadata": {},
   "outputs": [
    {
     "name": "stdout",
     "output_type": "stream",
     "text": [
      "15\n"
     ]
    }
   ],
   "source": [
    "result = 0\n",
    "\n",
    "while(start<=end):\n",
    "    total = 0\n",
    "    mid = (start+end)//2\n",
    "    \n",
    "    for i in array:\n",
    "        if i>mid:\n",
    "            total+=i-mid\n",
    "    \n",
    "    # 떡이 너무 많이 잘리면 절단기 길이를 줄인다.\n",
    "    if total<m:\n",
    "        end = mid-1\n",
    "    else:\n",
    "        # 떡이 딱 덜 잘렸을 때가 정답이므로, 바로 result에 기록.\n",
    "        result = mid\n",
    "        start = mid+1\n",
    "\n",
    "\n",
    "print(result)\n",
    "        "
   ]
  },
  {
   "cell_type": "code",
   "execution_count": null,
   "metadata": {},
   "outputs": [],
   "source": []
  }
 ],
 "metadata": {
  "kernelspec": {
   "display_name": "Python 3",
   "language": "python",
   "name": "python3"
  },
  "language_info": {
   "codemirror_mode": {
    "name": "ipython",
    "version": 3
   },
   "file_extension": ".py",
   "mimetype": "text/x-python",
   "name": "python",
   "nbconvert_exporter": "python",
   "pygments_lexer": "ipython3",
   "version": "3.8.5"
  }
 },
 "nbformat": 4,
 "nbformat_minor": 4
}
