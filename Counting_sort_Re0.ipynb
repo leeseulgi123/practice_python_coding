{
 "cells": [
  {
   "cell_type": "code",
   "execution_count": 1,
   "metadata": {},
   "outputs": [],
   "source": [
    "# 계수 정렬"
   ]
  },
  {
   "cell_type": "code",
   "execution_count": 2,
   "metadata": {},
   "outputs": [
    {
     "name": "stdout",
     "output_type": "stream",
     "text": [
      "슬기네 전자 매장의 부품 개수를 입력하세요.\n",
      "5\n",
      "보유한 부품 번호를 입력하세요. 구분은 띄어쓰기 입니다.\n",
      "8 3 7 9 2\n",
      "손님이 문의한 부품 개수를 입력하세요.\n",
      "3\n",
      "손님이 문의한 부품 번호를 입력하세요.\n",
      "5 7 9\n"
     ]
    }
   ],
   "source": [
    "print(\"슬기네 전자 매장의 부품 개수를 입력하세요.\")\n",
    "n = int(input())\n",
    "\n",
    "array_n = [0]*1000001\n",
    "print(\"보유한 부품 번호를 입력하세요. 구분은 띄어쓰기 입니다.\")\n",
    "for i in input().split():\n",
    "    array_n[int(i)] = 1\n",
    "    \n",
    "print(\"손님이 문의한 부품 개수를 입력하세요.\")\n",
    "m = int(input())\n",
    "\n",
    "print(\"손님이 문의한 부품 번호를 입력하세요.\")\n",
    "array_m = list(map(int, input().split()))"
   ]
  },
  {
   "cell_type": "code",
   "execution_count": 4,
   "metadata": {},
   "outputs": [
    {
     "name": "stdout",
     "output_type": "stream",
     "text": [
      "No  5  is not in array_n\n",
      "Yes  7  is in array_n\n",
      "Yes  9  is in array_n\n"
     ]
    }
   ],
   "source": [
    "for i in array_m:\n",
    "    if array_n[i] == 1:\n",
    "        print(\"Yes \", i, \" is in array_n\")\n",
    "    else:\n",
    "        print(\"No \", i, \" is not in array_n\")"
   ]
  },
  {
   "cell_type": "code",
   "execution_count": null,
   "metadata": {},
   "outputs": [],
   "source": [
    "p"
   ]
  }
 ],
 "metadata": {
  "kernelspec": {
   "display_name": "Python 3",
   "language": "python",
   "name": "python3"
  },
  "language_info": {
   "codemirror_mode": {
    "name": "ipython",
    "version": 3
   },
   "file_extension": ".py",
   "mimetype": "text/x-python",
   "name": "python",
   "nbconvert_exporter": "python",
   "pygments_lexer": "ipython3",
   "version": "3.8.5"
  }
 },
 "nbformat": 4,
 "nbformat_minor": 4
}
