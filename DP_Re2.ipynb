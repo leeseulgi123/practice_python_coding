{
 "cells": [
  {
   "cell_type": "code",
   "execution_count": 1,
   "metadata": {},
   "outputs": [],
   "source": [
    "# DP: 바닥 공사"
   ]
  },
  {
   "cell_type": "code",
   "execution_count": 2,
   "metadata": {},
   "outputs": [
    {
     "name": "stdout",
     "output_type": "stream",
     "text": [
      "가로의 길이를 입력하세요.\n",
      "3\n"
     ]
    }
   ],
   "source": [
    "print(\"가로의 길이를 입력하세요.\")\n",
    "N = int(input())\n",
    "\n",
    "d = [0]*1001\n",
    "\n",
    "d[1] = 1\n",
    "d[2] = 3"
   ]
  },
  {
   "cell_type": "code",
   "execution_count": 3,
   "metadata": {},
   "outputs": [
    {
     "name": "stdout",
     "output_type": "stream",
     "text": [
      "5\n"
     ]
    }
   ],
   "source": [
    "for i in range(3, N+1):\n",
    "    # d[i-1]까지 채워져 있으면 2*1 덮개로 채우는 1가지 경우\n",
    "    # d[i-2]까지 채워져 있으면 1*2 덮개 2개 또는 2*2 덮개 1개로 채우는 \n",
    "    # 2가지 경우\n",
    "    d[i] = d[i-1]+2*d[i-2]\n",
    "\n",
    "print(d[N])"
   ]
  },
  {
   "cell_type": "code",
   "execution_count": null,
   "metadata": {},
   "outputs": [],
   "source": []
  }
 ],
 "metadata": {
  "kernelspec": {
   "display_name": "Python 3",
   "language": "python",
   "name": "python3"
  },
  "language_info": {
   "codemirror_mode": {
    "name": "ipython",
    "version": 3
   },
   "file_extension": ".py",
   "mimetype": "text/x-python",
   "name": "python",
   "nbconvert_exporter": "python",
   "pygments_lexer": "ipython3",
   "version": "3.8.5"
  }
 },
 "nbformat": 4,
 "nbformat_minor": 4
}
